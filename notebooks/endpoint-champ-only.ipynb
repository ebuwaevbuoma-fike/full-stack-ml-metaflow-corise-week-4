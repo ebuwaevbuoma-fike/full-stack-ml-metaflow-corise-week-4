{
 "cells": [
  {
   "attachments": {},
   "cell_type": "markdown",
   "metadata": {},
   "source": [
    "# Set the namespaces based on _your_ deployment"
   ]
  },
  {
   "cell_type": "code",
   "execution_count": 6,
   "metadata": {},
   "outputs": [
    {
     "name": "stdout",
     "output_type": "stream",
     "text": [
      "Collecting metaflow==2.8.6\n",
      "  Downloading metaflow-2.8.6-py2.py3-none-any.whl (924 kB)\n",
      "\u001b[2K     \u001b[90m━━━━━━━━━━━━━━━━━━━━━━━━━━━━━━━━━━━━━━\u001b[0m \u001b[32m924.5/924.5 kB\u001b[0m \u001b[31m21.5 MB/s\u001b[0m eta \u001b[36m0:00:00\u001b[0ma \u001b[36m0:00:01\u001b[0m\n",
      "\u001b[?25hRequirement already satisfied: requests in /home/workspace/mambaforge/envs/full-stack-metaflow-corise/lib/python3.8/site-packages (from metaflow==2.8.6) (2.29.0)\n",
      "Requirement already satisfied: boto3 in /home/workspace/mambaforge/envs/full-stack-metaflow-corise/lib/python3.8/site-packages (from metaflow==2.8.6) (1.26.121)\n",
      "Requirement already satisfied: botocore<1.30.0,>=1.29.121 in /home/workspace/mambaforge/envs/full-stack-metaflow-corise/lib/python3.8/site-packages (from boto3->metaflow==2.8.6) (1.29.121)\n",
      "Requirement already satisfied: jmespath<2.0.0,>=0.7.1 in /home/workspace/mambaforge/envs/full-stack-metaflow-corise/lib/python3.8/site-packages (from boto3->metaflow==2.8.6) (1.0.1)\n",
      "Requirement already satisfied: s3transfer<0.7.0,>=0.6.0 in /home/workspace/mambaforge/envs/full-stack-metaflow-corise/lib/python3.8/site-packages (from boto3->metaflow==2.8.6) (0.6.0)\n",
      "Requirement already satisfied: charset-normalizer<4,>=2 in /home/workspace/mambaforge/envs/full-stack-metaflow-corise/lib/python3.8/site-packages (from requests->metaflow==2.8.6) (3.1.0)\n",
      "Requirement already satisfied: idna<4,>=2.5 in /home/workspace/mambaforge/envs/full-stack-metaflow-corise/lib/python3.8/site-packages (from requests->metaflow==2.8.6) (3.4)\n",
      "Requirement already satisfied: urllib3<1.27,>=1.21.1 in /home/workspace/mambaforge/envs/full-stack-metaflow-corise/lib/python3.8/site-packages (from requests->metaflow==2.8.6) (1.26.15)\n",
      "Requirement already satisfied: certifi>=2017.4.17 in /home/workspace/mambaforge/envs/full-stack-metaflow-corise/lib/python3.8/site-packages (from requests->metaflow==2.8.6) (2023.5.7)\n",
      "Requirement already satisfied: python-dateutil<3.0.0,>=2.1 in /home/workspace/mambaforge/envs/full-stack-metaflow-corise/lib/python3.8/site-packages (from botocore<1.30.0,>=1.29.121->boto3->metaflow==2.8.6) (2.8.2)\n",
      "Requirement already satisfied: six>=1.5 in /home/workspace/mambaforge/envs/full-stack-metaflow-corise/lib/python3.8/site-packages (from python-dateutil<3.0.0,>=2.1->botocore<1.30.0,>=1.29.121->boto3->metaflow==2.8.6) (1.16.0)\n",
      "Installing collected packages: metaflow\n",
      "  Attempting uninstall: metaflow\n",
      "    Found existing installation: metaflow 2.9.2\n",
      "    Uninstalling metaflow-2.9.2:\n",
      "      Successfully uninstalled metaflow-2.9.2\n",
      "Successfully installed metaflow-2.8.6\n"
     ]
    }
   ],
   "source": [
    "! pip install metaflow==2.8.6"
   ]
  },
  {
   "cell_type": "code",
   "execution_count": 9,
   "metadata": {},
   "outputs": [],
   "source": [
    "# Paste the namespace of your flow here. You can find it in Metaflow GUI. \n",
    "champ_namespace = \"production:mfprj-xsfdb3gtsiboqyrd-0-vqsy\" # something like: 'production:mfprj-xsfdb3gtsiboqyrd-0-vqsy'"
   ]
  },
  {
   "attachments": {},
   "cell_type": "markdown",
   "metadata": {},
   "source": [
    "# Configure the endpoints to set model state on the server"
   ]
  },
  {
   "cell_type": "code",
   "execution_count": 19,
   "metadata": {},
   "outputs": [
    {
     "name": "stdout",
     "output_type": "stream",
     "text": [
      "http://127.0.0.1:8000/load-models?champ_namespace=production:mfprj-xsfdb3gtsiboqyrd-0-vqsy\n"
     ]
    }
   ],
   "source": [
    "endpoint_uri_base = 'http://127.0.0.1:8000/'\n",
    "slug = 'load-models?champ_namespace={}'.format(champ_namespace)\n",
    "load_models_endpoint = endpoint_uri_base + slug\n",
    "print(load_models_endpoint)"
   ]
  },
  {
   "attachments": {},
   "cell_type": "markdown",
   "metadata": {},
   "source": [
    "# Run the uvicorn server\n",
    "\n",
    "Open a terminal and run:\n",
    "```sh\n",
    "uvicorn model-server:api\n",
    "```\n",
    "This needs to stay running while you complete the remaining cells of the notebook."
   ]
  },
  {
   "attachments": {},
   "cell_type": "markdown",
   "metadata": {},
   "source": [
    "# Load the champion model state on the server"
   ]
  },
  {
   "cell_type": "code",
   "execution_count": 20,
   "metadata": {},
   "outputs": [
    {
     "name": "stdout",
     "output_type": "stream",
     "text": [
      "Running baseline model as champion.\n"
     ]
    }
   ],
   "source": [
    "import requests\n",
    "try:\n",
    "    response = requests.get(load_models_endpoint, verify=False, proxies={\"https\": endpoint_uri_base})\n",
    "    print(response.json())\n",
    "except requests.ConnectionError as e: \n",
    "    print(\"Did you run the server?!\")"
   ]
  },
  {
   "attachments": {},
   "cell_type": "markdown",
   "metadata": {},
   "source": [
    "# Get sample data"
   ]
  },
  {
   "cell_type": "code",
   "execution_count": 21,
   "metadata": {},
   "outputs": [],
   "source": [
    "# get random data point\n",
    "import pandas as pd\n",
    "data = pd.read_csv(\"../data/titanic.csv\")\n",
    "\n",
    "inference_example = data.sample()\n",
    "idx = inference_example.index[0]\n",
    "true_target = inference_example['Survived'].values[0]"
   ]
  },
  {
   "cell_type": "code",
   "execution_count": 22,
   "metadata": {},
   "outputs": [],
   "source": [
    "payload = inference_example.to_json()"
   ]
  },
  {
   "attachments": {},
   "cell_type": "markdown",
   "metadata": {},
   "source": [
    "# Request a prediction from the server"
   ]
  },
  {
   "cell_type": "code",
   "execution_count": 23,
   "metadata": {},
   "outputs": [
    {
     "name": "stdout",
     "output_type": "stream",
     "text": [
      "{'prediction': 0, 'model_used': 'champ'}\n"
     ]
    }
   ],
   "source": [
    "pred_slug = 'get-pred?data={}&which_model=champion'.format(payload)\n",
    "prediction_endpoint = endpoint_uri_base + pred_slug\n",
    "response = requests.get(prediction_endpoint, verify=False, proxies={\"https\": endpoint_uri_base})\n",
    "print(response.json())"
   ]
  }
 ],
 "metadata": {
  "kernelspec": {
   "display_name": "Full Stack ML Corise",
   "language": "python",
   "name": "full-stack-metaflow-corise"
  },
  "language_info": {
   "codemirror_mode": {
    "name": "ipython",
    "version": 3
   },
   "file_extension": ".py",
   "mimetype": "text/x-python",
   "name": "python",
   "nbconvert_exporter": "python",
   "pygments_lexer": "ipython3",
   "version": "3.8.15"
  },
  "orig_nbformat": 4
 },
 "nbformat": 4,
 "nbformat_minor": 2
}
